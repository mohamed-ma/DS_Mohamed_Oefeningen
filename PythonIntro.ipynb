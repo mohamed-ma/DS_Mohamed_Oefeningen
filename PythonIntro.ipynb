{
 "cells": [
  {
   "cell_type": "markdown",
   "id": "57853409",
   "metadata": {
    "slideshow": {
     "slide_type": "slide"
    }
   },
   "source": [
    "# Data Science - Python Intro\n",
    "\n",
    "## Installatie\n",
    "\n",
    "Om Python en Jupyter Notebook te installeren volg je [deze link](https://www.anaconda.com/products/individual#windows).\n",
    "Anaconda is een bundle met Python en een groot aantal extra packages die vaak gebruikt worden bij Data Science en Machine Learning.\n",
    "Download de executable en installeer het.\n",
    "Hierbij mogen de default opties gekozen worden.\n",
    "\n",
    "Ook al heeft Anaconda zijn eigen package manager (conda), niet alle packages kunnen door deze correct gevonden worden. Daarom moet je ook nog pip installeren door middel van onderstaande commando.\n",
    "\n",
    "Dit is bijgetypt als voorbeeld"
   ]
  },
  {
   "cell_type": "code",
   "execution_count": 1,
   "id": "6bcce111",
   "metadata": {},
   "outputs": [
    {
     "name": "stdout",
     "output_type": "stream",
     "text": [
      "^C\n"
     ]
    }
   ],
   "source": [
    "!conda install pip"
   ]
  },
  {
   "cell_type": "markdown",
   "id": "6471b022",
   "metadata": {},
   "source": [
    "Clone nu de github repo waar deze file in staat. Deze kan gevonden worden via [de link, pas dit aan naar de repo van dit jaar](TODO).\n",
    "Open nu een commandprompt (cmd.exe) en navigeer met behulp van cd naar de folder waar je de repo geplaatst hebt.\n",
    "Voer op die plaats het commando **jupyter notebook** uit.\n",
    "Dit opent een webpagina met de inhoud van je folder waar je zat.\n",
    "Open nu het notebook dat we hier gebruiken (Deze file noemt **03_PythonIntro**).\n",
    "\n",
    "Op dit punt zou je hetzelfde moeten zien als hier staat."
   ]
  },
  {
   "cell_type": "markdown",
   "id": "333222cf",
   "metadata": {},
   "source": [
    "## Jupyter notebook\n",
    "\n",
    "Jupyter notebook maakt het mogelijk om hier zowel de opgave, uitleg als code te tonen en uit te voeren.\n",
    "Hiervoor wordt er gebruik gemaakt van cellen.\n",
    "Ook is het mogelijk om zowel code als tekstuele vragen te stellen.\n",
    "\n",
    "Een korte intro over jupyter notebook kan je [hier](https://realpython.com/jupyter-notebook-introduction/) lezen.\n",
    "In grote lijnen wordt er gewerkt met cellen. Het type van de cel bepaalt of het python-code of plain text (markdown) bevat.\n",
    "Cellen worden automatisch toegevoegd na het uitvoeren van de laatste cel maar je kan ook er manueel toevoegen onder het menu-item insert of door gebruik te maken van de knoppen \"a\" en \"b\" (Hierbij moet je wel eerst uit de cell gaan door middel van Esc). Met deze laatste methode kan je op de gewenste plaats cellen gaan toevoegen.\n",
    "\n",
    "Uitvoeren van een code cel zorgt ervoor dat de python code die in die cell staat uitgevoerd wordt. In het geval van een markdown cell wordt de tekst gerendered.\n",
    "Om 1 cell uit te voeren is \"shift+enter\" de gemakkeljkste methode omdat dan de onderstaande cell automatisch geselecteerd wordt. Deze manier wordt ook gebruikt bij het pijltje met de tekst \"Run\" bovenaan.\n",
    "Andere methoden kan je vinden onder het menu \"Cell\" waarbij je bijvoorbeeld ook van boven naar beneden alle cellen kan laten uitvoeren.\n",
    "Als je ooit in een situatie zit waar je een endless loop gemaakt hebt of je code lijkt vast te zitten, kan je onder kernel een aantal manieren vinden om het uitvoeren te stoppen. \n",
    "Merk op dat als je de kernel stopt, je dan ook alle variabelen en objecten kwijt bent en je opnieuw de code vanin het begin moet uitvoeren.\n",
    "\n",
    "**Let op:** Bij het pushen naar github van de code is het aangeraden om de output te verwijderen die je hebt gegenereerd.\n",
    "Dit kan de bestandsgrootte sterk reduceren en vermijdt conflicten. \n",
    "Hierbij is het dan wel nodig om ervoor te zorgen dat je code van boven naar beneden kan uitgevoerd worden (met de knop run-all)."
   ]
  },
  {
   "cell_type": "markdown",
   "id": "1ccc490f",
   "metadata": {},
   "source": [
    "## Python intro\n",
    "\n",
    "Python is een open-source programmeertaal ontwikkeld en ontworpen begin jaren 90. \n",
    "Net zoals C# is het een object-georienteerde programmeertaal waarin gebruik gemaakt wordt van klassen en objecten voor structuur aan te brengen in je code. \n",
    "Het doel van Python is om een zeer leesbare programmeertaal te zijn en code lijkt sterk op pseudocode. \n",
    "In dit vak werken we met Python versie 3.x. \n",
    "De syntax vanaf versie 3 is licht afwijkend met die van Python versie 2.x.\n",
    "\n",
    "Het grootste verschil met C# is dat Python een scripting taal is die gebruik maakt van een interpreter in plaats van een compiler. Dit houdt in dat er geen compile/build step is. Een file of een tekst met Python code wordt door de interpreter ingelezen en lijn voor lijn uitgevoerd.\n",
    "\n",
    "Python code kan\n",
    " * Rechtstreeks in de commandline uitgevoerd worden. Voer hiervoor het commando \"python\" uit. Dit start de interpreter waar er berekeningen kunnen uitgevoerd worden.\n",
    " * Je kan een file aanmaken waar dezelfde lijnen in staan. Wanneer je nu navigeert naar je directory in commandline en daar het commando \"python **filename**.py\" uitvoert, dan krijg je hetzelfde resultaat. Merk op dat files met python code standaard de extensie .py hebben maar dat dit niet strikt noodzakelijk is.\n",
    " * Daarnaast kan je net hetzelfde doen in een cell van jupyter notebook"
   ]
  },
  {
   "cell_type": "code",
   "execution_count": 8,
   "id": "760aa21a",
   "metadata": {},
   "outputs": [
    {
     "name": "stdout",
     "output_type": "stream",
     "text": [
      "12\n"
     ]
    }
   ],
   "source": [
    "a = 5\n",
    "b = 7 \n",
    "\n",
    "c = a+b\n",
    "print(c)\n",
    "# Dit is een commentaar lijn\n",
    "# Dit is een andere lijn\n",
    "#\n",
    "#"
   ]
  },
  {
   "cell_type": "markdown",
   "id": "e965da90",
   "metadata": {},
   "source": [
    "De grootste verschillen met C# zijn:\n",
    "* Een scripting taal dus geen compileer stap nodig (het kan wel gedaan worden voor de snelheid van het programma te verbeteren)\n",
    "* Dynamisch typecasting dus moet niet steeds het type meegegeven worden bij het aanmaken van variabele, definieren van functies en klassen\n",
    "* Indentation ipv van accolades voor code blocks\n",
    "\n",
    "Nu ga ik een hele reeks zaken overlopen om de basis van python te leren kennen. \n",
    "Merk op dat in de loop van dit vak we python gaan gebruiken op een vereenvoudigde manier dus is het niet nodig om alle details te kennen van hoe python werkt."
   ]
  },
  {
   "cell_type": "code",
   "execution_count": 64,
   "id": "0db7bfff",
   "metadata": {},
   "outputs": [
    {
     "name": "stdout",
     "output_type": "stream",
     "text": [
      "0\n",
      "Jens\n",
      "{'0': 'Naam', 1: 'naam', 3: 'test', 'Jens': 'value'}\n",
      "0 , Jens , {'0': 'Naam', 1: 'naam', 3: 'test', 'Jens': 'value'}\n",
      "test test {'0': 'Naam', 1: 'naam', 3: 'test', 'Jens': 'value'} test\n",
      "5 10\n"
     ]
    }
   ],
   "source": [
    "# aanmaken van een floating point\n",
    "a = 6.3\n",
    "b = -5.2\n",
    "a-b\n",
    "\n",
    "# aanmaken van een string\n",
    "a = int(\"5\")\n",
    "b = int('7')\n",
    "a+b\n",
    "len(\"dit is een lange string!\")\n",
    "\n",
    "# aanmaken van een list (meerdere types combineren kan maar is niet vaak gewenst)\n",
    "lijstje = [0,1,2,3,\"4\",5,\"6\",7,True,9]\n",
    "lijstje[2]\n",
    "lijstje[-2]\n",
    "lijstje[3:5]\n",
    "#lijstje[begin:end:step]\n",
    "lijstje[1:-1:2]\n",
    "\n",
    "# aanmaken tuple\n",
    "i, naam = (0, \"Jens\")\n",
    "print(i)\n",
    "print(naam)\n",
    "\n",
    "# aanmaken dictionary\n",
    "dictionary = {\"0\": \"Naam\", 1:\"naam\", 3:\"test\"}\n",
    "dictionary[\"Jens\"]=\"value\"\n",
    "print(dictionary)\n",
    "\n",
    "# output (concatenate of multiple arguments of f-strings f'adfafd {geen string object} afdaf' )\n",
    "print(i,naam,dictionary, sep=\" , \")\n",
    "print(f'test test {dictionary} test')\n",
    "\n",
    "# input\n",
    "#input()\n",
    "\n",
    "# set string om naar int of omgekeerd\n",
    "str(a)\n",
    "\n",
    "# aanmaken functie (default args)\n",
    "def functienaam(a= 2, b = 1):\n",
    "    return a+b\n",
    "\n",
    "functienaam(b=6)\n",
    "\n",
    "# if-test\n",
    "if a > b:\n",
    "    pass\n",
    "elif a < b:\n",
    "    pass\n",
    "else:\n",
    "    pass\n",
    "\n",
    "# for loop\n",
    "#for iterator in range(20):\n",
    "#    print(iterator)\n",
    "\n",
    "# while loop\n",
    "while a < b:\n",
    "    break\n",
    "    \n",
    "# insert in lijst\n",
    "#lijstje.append(20)\n",
    "#lijstje.extend(range(10))\n",
    "lijstje.insert(1, \"a\")\n",
    "lijstje\n",
    "\n",
    "# lijst concatenation\n",
    "\n",
    "lijstje + lijstje\n",
    "\n",
    "# classe aanmaken\n",
    "class Person:\n",
    "    age=0\n",
    "    \n",
    "    def __init__(self, name, age=0, adress=\"a\"):\n",
    "        self.naam = name\n",
    "        self.age = age\n",
    "        self.leeftijd = age\n",
    "        self.adress = adress\n",
    "        \n",
    "persoon = Person(\"test1\", 5)\n",
    "persoon2 = Person(\"test2\", 10)\n",
    "\n",
    "print(persoon.age, persoon2.age)\n",
    "\n",
    "# Inheritance"
   ]
  },
  {
   "cell_type": "markdown",
   "id": "f75f3df9",
   "metadata": {},
   "source": [
    "### Oefening\n",
    "\n",
    "* Maak een klasse Persoon aan, die minstens een naam en leeftijd en adres heeft.\n",
    "* Maak een klasse Student aan die hiervan over erft die ook nog een dictionary bijhoudt met welke scores de student had voor welk vak. \n",
    "* Maak functies in deze klassen aan om scores toe te voegen, te tellen voor hoeveel vakken de student erdoor is en zijn gemiddelde te berekenen\n",
    "* Maak een aparte functie aan die een lijst studenten als argument meekrijgt en bepaalt hoeveel studenten er door zijn.\n",
    "* Maak een aparte functie aan die een lijst studenten als argument meekrijgt en bepaalt voor elk vak hoeveel studenten er door zijn."
   ]
  },
  {
   "cell_type": "code",
   "execution_count": 3,
   "id": "1233e873",
   "metadata": {},
   "outputs": [
    {
     "name": "stdout",
     "output_type": "stream",
     "text": [
      "<__main__.Person object at 0x0000023E6FA26910>\n"
     ]
    }
   ],
   "source": [
    "# Oefening 1: Persoon\n",
    "class Person:\n",
    "    def __init__(self, name, age, adress):\n",
    "        self.name = name\n",
    "        self.age = age\n",
    "        self.adress = adress\n",
    "p = Person(\"John Doe\", 19, \"Gent\")\n",
    "print(p)"
   ]
  },
  {
   "cell_type": "code",
   "execution_count": 17,
   "id": "ade076df",
   "metadata": {},
   "outputs": [
    {
     "name": "stdout",
     "output_type": "stream",
     "text": [
      "2\n",
      "17.5\n"
     ]
    }
   ],
   "source": [
    "# Oefening 2: Student\n",
    "class Student(Person):\n",
    "    def __init__(self, name, leeftijd, adres):\n",
    "        # will take the constructor of the parent class\n",
    "        super().__init__(name, leeftijd, adres)\n",
    "        self.scores = {}\n",
    "        \n",
    "    # punten toevoegen\n",
    "    def add_score(self, vak, punt):\n",
    "        self.scores[vak] = punt\n",
    "    def aantal_vakken_geslaagd(self):\n",
    "        aantal = 0\n",
    "        for vak in self.scores:\n",
    "            if self.scores[vak] >= 0:\n",
    "                aantal += 1\n",
    "        return aantal\n",
    "    def bereken_gemiddelde(self):\n",
    "        if len(self.scores) == 0:\n",
    "            return 0\n",
    "        gem = 0\n",
    "        aantal = 0\n",
    "        for vak in self.scores:\n",
    "            gem += self.scores[vak]\n",
    "        return gem / len(self.scores)\n",
    "        \n",
    "s = Student(\"John Doe\", 20, \"Gent\")\n",
    "s.add_score(\"Data Science\", 15)\n",
    "s.add_score(\"Data Analytics\", 20)\n",
    "print(s.aantal_vakken_geslaagd())\n",
    "print(s.bereken_gemiddelde())"
   ]
  },
  {
   "cell_type": "code",
   "execution_count": null,
   "id": "56200557",
   "metadata": {},
   "outputs": [],
   "source": [
    "# Oefening 3: Hoeveel studenten geslaagd voor een vak\n",
    "def aantal_studenten_geslaagd(studentenlijst, vak):\n",
    "    aantal = 0\n",
    "    \n",
    "    for student in studentenlijst:\n",
    "        if vak in student.scores:\n",
    "            if student.scores[vak] >= 10:\n",
    "                aantal += 1\n",
    "        \n",
    "    return aantal\n"
   ]
  },
  {
   "cell_type": "code",
   "execution_count": null,
   "id": "17116780",
   "metadata": {},
   "outputs": [],
   "source": [
    "# Oefening 4: Hoeveel studenten geslaagd voor elk vak\n",
    "def aantal_student_geslaagd_per_vak(studentenlijst):\n",
    "    # zoek alle vakken\n",
    "    vakken = []\n",
    "    for student in studentenlijst:\n",
    "        for vak in student.scores:\n",
    "            # if a student doesn't have a subject in their scores, but another student does\n",
    "            if vak not in vakken:\n",
    "                vakken.append(vak)\n",
    "    for vak in vakken:\n",
    "        geslaagd_per_vak[vak] = aantal_studenten_geslaagd(studentenlijst, vak)\n",
    "    return geslaagd_per_vak\n",
    "    # aantal studenten geslaagd per vak\n",
    "aantal_studenten_geslaagd_per_vak(studentenlijst)"
   ]
  },
  {
   "cell_type": "markdown",
   "id": "0fcfb3c7",
   "metadata": {
    "slideshow": {
     "slide_type": "slide"
    }
   },
   "source": [
    "## Numpy Intro\n",
    "\n",
    "De numpy libary of package is de kern van veel andere wiskundige rekentools for datamanagement of machine learning in python.\n",
    "Het biedt onder andere een hoge performantie om te werken met rijen van meerdere dimensies en een reeks tools voor bewerkingen te doen met en op deze rijen.\n",
    "* Een 1-dimensionale rij is een een normale rij\n",
    "* Een 2-dimensionale rij is een matrix\n",
    "* Een 3-dimensionale rij is bijvoorbeeld een RGB-figuur (derde dimensie bestaat uit drie elementen)\n",
    "\n",
    "De standaard manier om deze package te gebruiken is door bovenaan je file de package te importeren met het commando:"
   ]
  },
  {
   "cell_type": "code",
   "execution_count": 19,
   "id": "345f8618",
   "metadata": {},
   "outputs": [],
   "source": [
    "import numpy as np"
   ]
  },
  {
   "cell_type": "code",
   "execution_count": 62,
   "id": "92f16d93",
   "metadata": {},
   "outputs": [
    {
     "name": "stdout",
     "output_type": "stream",
     "text": [
      "[[16  9 93]\n",
      " [86  2 27]\n",
      " [ 4 31  1]\n",
      " [13 83  4]]\n"
     ]
    },
    {
     "data": {
      "text/plain": [
       "array([[-16,   9,  93,   2],\n",
       "       [ 27,  86,   1,   4],\n",
       "       [ 31,   4,  13,  83]])"
      ]
     },
     "execution_count": 62,
     "metadata": {},
     "output_type": "execute_result"
    }
   ],
   "source": [
    "# Aanmaken arrays\n",
    "\n",
    "# setting the seed to 100, will always generate the same random numbers\n",
    "np.random.seed(100)\n",
    "\n",
    "np.array([0,1,2,3,4,5])\n",
    "np.array([[0,1,2], [3,4,5]])\n",
    "# 10 rows and 5 columns\n",
    "np.ones(shape=(10,5))\n",
    "# instead of ones it's zeros\n",
    "np.zeros(shape=(10, 5))\n",
    "# eye will have ones diagonally\n",
    "np.eye(10)\n",
    "# will generate random 4 rows and 3 columns\n",
    "np.random.random((4,3))\n",
    "# gehele getallen random van 0 tot 100 en een size van 4 rijen en 3 kolommen\n",
    "a = np.random.randint(100, size=(4,3))\n",
    "print(a)\n",
    "#-------------------------\n",
    "\n",
    "# Bestuderen van de matrices\n",
    "\n",
    "# get the third element from the second row\n",
    "a[1, 2]\n",
    "\n",
    "# get all values from top to bottom (the third element only)\n",
    "a[:,2]\n",
    "\n",
    "# get the values in a Z shape\n",
    "a[1::2, ::2]\n",
    "#-------------------------\n",
    "# Bewerkingen met arrays\n",
    "# element wise vermenigvuldiging (geen matrix vermenigvuldiging)\n",
    "a*a\n",
    "np.cos(a)\n",
    "np.sin(a)\n",
    "np.tan(a)\n",
    "np.sqrt(a)\n",
    "#-------------------------\n",
    "# Vergelijken van rijen\n",
    "# which elements are divisible by 2?\n",
    "a % 2 == 0\n",
    "# get all elements divisible by 2\n",
    "a[a % 2 == 0]\n",
    "\n",
    "#-------------------------\n",
    "# Aggregate functies\n",
    "a.sum()\n",
    "a.mean()\n",
    "np.median(a)\n",
    "\n",
    "#-------------------------\n",
    "# Copy arrays\n",
    "b = a\n",
    "# by reference and not by value!\n",
    "b[0, 0] = -16\n",
    "\n",
    "# by value!\n",
    "b = a.copy()\n",
    "\n",
    "#-------------------------\n",
    "# Sort\n",
    "a.sort(axis=1)\n",
    "a\n",
    "\n",
    "#-------------------------\n",
    "# Indexing\n",
    "\n",
    "\n",
    "#-------------------------\n",
    "# Dimensies array manipuleren\n",
    "# reshape into 3 rows and 4 columns\n",
    "np.reshape(a, (3, 4))\n",
    "\n",
    "#-------------------------\n",
    "# Opslaan\n",
    "\n",
    "#-------------------------"
   ]
  },
  {
   "cell_type": "markdown",
   "id": "62958045",
   "metadata": {},
   "source": [
    "Maak nu de volgende oefeningen voor Numpy\n",
    "* Maak 2 vierkante matrices met random waarden tussen 0 en 10. De ene is een 10x5 matrix, de andere is 5x10.\n",
    "* Schrijf een functie die controleert of de dimensies van de matrices voldoen aan de voorwaarden voor matrixVermenigvuldiging\n",
    "* Bereken de vermenigvuldiging van de matrix\n",
    "* Toon de resultaten op alle even rijen\n",
    "* Bereken de som van elke kolom\n",
    "* Bereken het gemiddelde van de matrix\n",
    "* Verander het type van de matrix naar een integer-type\n",
    "* Toon alle rijen waar de 4e kolom een even getal bevat\n",
    "* Wijzig de vorm van de matrix van een 10x10 naar een 5x20\n",
    "* Bereken de getransponeerde matrix\n",
    "* Bereken de vierkantswortel van elk element in deze matrix"
   ]
  },
  {
   "cell_type": "code",
   "execution_count": 86,
   "id": "2dd3d02c",
   "metadata": {},
   "outputs": [
    {
     "name": "stdout",
     "output_type": "stream",
     "text": [
      "4.5\n",
      "4.08\n"
     ]
    },
    {
     "data": {
      "text/plain": [
       "array([[1, 7, 4, 2, 4],\n",
       "       [1, 2, 1, 8, 4],\n",
       "       [4, 8, 6, 8, 9],\n",
       "       [1, 6, 0, 4, 2]])"
      ]
     },
     "execution_count": 86,
     "metadata": {},
     "output_type": "execute_result"
    }
   ],
   "source": [
    "import numpy as np\n",
    "\n",
    "# Maak 2 vierkante matrices met random waarden tussen 0 en 10. De ene is een 10x5 matrix, de andere is 5x10.\n",
    "first_array = np.random.randint(10, size=(10,5))\n",
    "second_array = np.random.randint(10, size=(5,10))\n",
    "#print(first_array)\n",
    "#print(\"------------------\")\n",
    "#print(second_array)\n",
    "#----------------------------------\n",
    "# Schrijf een functie die controleert of de dimensies van de matrices voldoen aan de voorwaarden voor matrixVermenigvuldiging\n",
    "\n",
    "# first matrix should have as many columns as the second matrix's rows\n",
    "def check_if_able_to_multiply_matrices(first_matrix, second_matrix):\n",
    "    #first_matrix_rows, first_matrix_columns = first_matrix.shape\n",
    "    #second_matrix_rows, second_matrix_columns = second_matrix.shape\n",
    "    first_matrix_columns = np.shape(first_matrix)[0]\n",
    "    second_matrix_rows = np.shape(second_matrix)[1]\n",
    "    if(first_matrix_columns == second_matrix_rows):\n",
    "        return True\n",
    "    return False\n",
    "\n",
    "#print(check_if_able_to_multiply_matrices(first_array, second_array))\n",
    "#-------------------------------------\n",
    "# Bereken de vermenigvuldiging van de matrix\n",
    "#print(np.dot(first_array, second_array))\n",
    "\n",
    "#-------------------------------------\n",
    "# Toon de resultaten op alle even rijen\n",
    "first_array[first_array % 2 == 0]\n",
    "second_array[second_array % 2 == 0]\n",
    "\n",
    "#--------------------------------------\n",
    "# Bereken de som van elke kolom\n",
    "# axis = 0 means row and axis = 1 means columns\n",
    "first_array_column_sums = first_array.sum(axis = 0)\n",
    "# print(first_array_column_sums)\n",
    "\n",
    "#-------------------------------------\n",
    "# Bereken het gemiddelde van de matrix\n",
    "print(np.mean(first_array))\n",
    "print(np.mean(second_array))\n",
    "\n",
    "#-----------------------------------------\n",
    "# Verander het type van de matrix naar een integer-type\n",
    "first_array.astype(int)\n",
    "second_array.astype(int)\n",
    "\n",
    "#------------------------------------------\n",
    "# Toon alle rijen waar de 4e kolom een even getal bevat\n",
    "first_array[first_array[:, 3] % 2 == 0]\n",
    "\n",
    "#------------------------------------------"
   ]
  },
  {
   "cell_type": "markdown",
   "id": "2b9e0a6c",
   "metadata": {},
   "source": [
    "## Pandas Intro\n",
    "\n",
    "Pandas is een open-source software library die is geschreven voor Python om aan data manipulatie en analyse te doen. \n",
    "Het biedt met name datastructuren aan voor het bewerken en manipuleren van numerieke tabellen en tijdreeksen. \n",
    "Pandas is uitermate geschikt voor tabulaire data uit bijvoorbeeld relationele databases of spreadsheets.\n",
    "De API die aangeboden wordt door deze library kan je [hier](https://pandas.pydata.org/pandas-docs/stable/reference/index.html) vinden.\n",
    "\n",
    "Deze library biedt mogelijkheden aan om een breed gamma van dataformaten in te lezen en weg te schrijven als dataframe, bijvoorbeeld: csv, xlsx, Json en SQL.\n",
    "De basis van de libary is het concept van Series en Dataframes. \n",
    "Een Series is een soort lijst dat een aantal soorten data kan bevatten (numerieke waarden, datums, strings, ...). \n",
    "Een Dataframe aan de andere hand is een collectie van series met een gemeenschappelijke index.\n",
    "Een series is dan gelijkaardig aan een kolom in een tabel en een dataframe de hele tabel.\n",
    "\n",
    "Net zoals bij Numpy moet deze library geimporteerd worden voor we ermee kunnen werken.\n",
    "Dit kan aan de hand van de volgende regel."
   ]
  },
  {
   "cell_type": "code",
   "execution_count": 87,
   "id": "2c589bd0",
   "metadata": {},
   "outputs": [],
   "source": [
    "import pandas as pd"
   ]
  },
  {
   "cell_type": "markdown",
   "id": "502af2e2",
   "metadata": {},
   "source": [
    "Nu ga ik eerst een voorbeeld tonen van het verschil van een Series en een Dataframe."
   ]
  },
  {
   "cell_type": "code",
   "execution_count": 134,
   "id": "7e96e532",
   "metadata": {},
   "outputs": [
    {
     "name": "stdout",
     "output_type": "stream",
     "text": [
      "0      GRR Martin\n",
      "1       Andy Weir\n",
      "2         Tolkien\n",
      "3    Isaac Asimov\n",
      "dtype: object\n",
      "0     7\n",
      "1     4\n",
      "2    20\n",
      "3    50\n",
      "dtype: int64\n"
     ]
    },
    {
     "data": {
      "text/html": [
       "<div>\n",
       "<style scoped>\n",
       "    .dataframe tbody tr th:only-of-type {\n",
       "        vertical-align: middle;\n",
       "    }\n",
       "\n",
       "    .dataframe tbody tr th {\n",
       "        vertical-align: top;\n",
       "    }\n",
       "\n",
       "    .dataframe thead th {\n",
       "        text-align: right;\n",
       "    }\n",
       "</style>\n",
       "<table border=\"1\" class=\"dataframe\">\n",
       "  <thead>\n",
       "    <tr style=\"text-align: right;\">\n",
       "      <th></th>\n",
       "      <th>Auteurs</th>\n",
       "      <th>n_books</th>\n",
       "      <th>Geboortejaar</th>\n",
       "    </tr>\n",
       "  </thead>\n",
       "  <tbody>\n",
       "    <tr>\n",
       "      <th>0</th>\n",
       "      <td>GRR Martin</td>\n",
       "      <td>7</td>\n",
       "      <td>1950.0</td>\n",
       "    </tr>\n",
       "    <tr>\n",
       "      <th>1</th>\n",
       "      <td>Andy Weir</td>\n",
       "      <td>4</td>\n",
       "      <td>1960.0</td>\n",
       "    </tr>\n",
       "    <tr>\n",
       "      <th>2</th>\n",
       "      <td>Tolkien</td>\n",
       "      <td>20</td>\n",
       "      <td>1970.0</td>\n",
       "    </tr>\n",
       "    <tr>\n",
       "      <th>3</th>\n",
       "      <td>Isaac Asimov</td>\n",
       "      <td>50</td>\n",
       "      <td>NaN</td>\n",
       "    </tr>\n",
       "  </tbody>\n",
       "</table>\n",
       "</div>"
      ],
      "text/plain": [
       "        Auteurs  n_books  Geboortejaar\n",
       "0    GRR Martin        7        1950.0\n",
       "1     Andy Weir        4        1960.0\n",
       "2       Tolkien       20        1970.0\n",
       "3  Isaac Asimov       50           NaN"
      ]
     },
     "metadata": {},
     "output_type": "display_data"
    }
   ],
   "source": [
    "# Maak 2 series: auteurs en aantal boeken\n",
    "auteurs = pd.Series([\"GRR Martin\", \"Andy Weir\", \"Tolkien\", \"Isaac Asimov\"])\n",
    "n_books = pd.Series([7, 4, 20, 50])\n",
    "print(auteurs)\n",
    "print(n_books)\n",
    "\n",
    "# Maak een dataframe aan voor deze 2 series\n",
    "df = pd.DataFrame({\"Auteurs\": auteurs, \"n_books\": n_books})\n",
    "\n",
    "\n",
    "# Voeg een serie toe met een geboortejaar (Laat er hier 1 ontbreken)\n",
    "df[\"Geboortejaar\"] = pd.Series([1950, 1960, 1970])\n",
    "display(df)"
   ]
  },
  {
   "cell_type": "markdown",
   "id": "c01f9a26",
   "metadata": {},
   "source": [
    "Merk op dat in deze laatste toevoeging een geboortejaar ontbrak. Dit is echter geen probleem want ontbrekende data wordt default op Nan gezet. \n",
    "Deze Nan waarden zien iets waar we later bij data cleaning veel aandacht aan gaan besteden."
   ]
  },
  {
   "cell_type": "code",
   "execution_count": 136,
   "id": "816eb376",
   "metadata": {},
   "outputs": [
    {
     "name": "stdout",
     "output_type": "stream",
     "text": [
      "<class 'pandas.core.frame.DataFrame'>\n",
      "RangeIndex: 4 entries, 0 to 3\n",
      "Data columns (total 3 columns):\n",
      " #   Column        Non-Null Count  Dtype  \n",
      "---  ------        --------------  -----  \n",
      " 0   Auteurs       4 non-null      object \n",
      " 1   n_books       4 non-null      int64  \n",
      " 2   Geboortejaar  3 non-null      float64\n",
      "dtypes: float64(1), int64(1), object(1)\n",
      "memory usage: 224.0+ bytes\n"
     ]
    },
    {
     "data": {
      "text/html": [
       "<div>\n",
       "<style scoped>\n",
       "    .dataframe tbody tr th:only-of-type {\n",
       "        vertical-align: middle;\n",
       "    }\n",
       "\n",
       "    .dataframe tbody tr th {\n",
       "        vertical-align: top;\n",
       "    }\n",
       "\n",
       "    .dataframe thead th {\n",
       "        text-align: right;\n",
       "    }\n",
       "</style>\n",
       "<table border=\"1\" class=\"dataframe\">\n",
       "  <thead>\n",
       "    <tr style=\"text-align: right;\">\n",
       "      <th></th>\n",
       "      <th>n_books</th>\n",
       "      <th>Geboortejaar</th>\n",
       "    </tr>\n",
       "    <tr>\n",
       "      <th>Auteurs</th>\n",
       "      <th></th>\n",
       "      <th></th>\n",
       "    </tr>\n",
       "  </thead>\n",
       "  <tbody>\n",
       "    <tr>\n",
       "      <th>GRR Martin</th>\n",
       "      <td>7</td>\n",
       "      <td>1950.0</td>\n",
       "    </tr>\n",
       "    <tr>\n",
       "      <th>Andy Weir</th>\n",
       "      <td>4</td>\n",
       "      <td>1960.0</td>\n",
       "    </tr>\n",
       "    <tr>\n",
       "      <th>Tolkien</th>\n",
       "      <td>20</td>\n",
       "      <td>1970.0</td>\n",
       "    </tr>\n",
       "    <tr>\n",
       "      <th>Isaac Asimov</th>\n",
       "      <td>50</td>\n",
       "      <td>NaN</td>\n",
       "    </tr>\n",
       "  </tbody>\n",
       "</table>\n",
       "</div>"
      ],
      "text/plain": [
       "              n_books  Geboortejaar\n",
       "Auteurs                            \n",
       "GRR Martin          7        1950.0\n",
       "Andy Weir           4        1960.0\n",
       "Tolkien            20        1970.0\n",
       "Isaac Asimov       50           NaN"
      ]
     },
     "metadata": {},
     "output_type": "display_data"
    }
   ],
   "source": [
    "# set index\n",
    "df.info()\n",
    "df.describe()\n",
    "\n",
    "\n",
    "df = df.set_index(\"Auteurs\")\n",
    "\n",
    "# we can use inplace=True parameter to overwrite the current df, we could have initialized it to df like above.\n",
    "#df.reset_index(\"Auteurs\", inplace=True)\n",
    "display(df)\n"
   ]
  },
  {
   "cell_type": "markdown",
   "id": "53da0d41",
   "metadata": {},
   "source": [
    "Voor de verdere bewerkingen maken we een random dataframe aan met 1000 rijen en 5 kolommen."
   ]
  },
  {
   "cell_type": "code",
   "execution_count": 161,
   "id": "01340f2d",
   "metadata": {},
   "outputs": [
    {
     "name": "stdout",
     "output_type": "stream",
     "text": [
      "<class 'pandas.core.frame.DataFrame'>\n",
      "RangeIndex: 1000 entries, 0 to 999\n",
      "Data columns (total 5 columns):\n",
      " #   Column  Non-Null Count  Dtype  \n",
      "---  ------  --------------  -----  \n",
      " 0   0       1000 non-null   float64\n",
      " 1   1       1000 non-null   float64\n",
      " 2   2       1000 non-null   float64\n",
      " 3   3       1000 non-null   float64\n",
      " 4   4       1000 non-null   float64\n",
      "dtypes: float64(5)\n",
      "memory usage: 39.2 KB\n"
     ]
    },
    {
     "data": {
      "text/html": [
       "<div>\n",
       "<style scoped>\n",
       "    .dataframe tbody tr th:only-of-type {\n",
       "        vertical-align: middle;\n",
       "    }\n",
       "\n",
       "    .dataframe tbody tr th {\n",
       "        vertical-align: top;\n",
       "    }\n",
       "\n",
       "    .dataframe thead th {\n",
       "        text-align: right;\n",
       "    }\n",
       "</style>\n",
       "<table border=\"1\" class=\"dataframe\">\n",
       "  <thead>\n",
       "    <tr style=\"text-align: right;\">\n",
       "      <th></th>\n",
       "      <th>n_books</th>\n",
       "      <th>Geboortejaar</th>\n",
       "    </tr>\n",
       "    <tr>\n",
       "      <th>Auteurs</th>\n",
       "      <th></th>\n",
       "      <th></th>\n",
       "    </tr>\n",
       "  </thead>\n",
       "  <tbody>\n",
       "    <tr>\n",
       "      <th>GRR Martin</th>\n",
       "      <td>7</td>\n",
       "      <td>1950</td>\n",
       "    </tr>\n",
       "    <tr>\n",
       "      <th>Andy Weir</th>\n",
       "      <td>4</td>\n",
       "      <td>1960</td>\n",
       "    </tr>\n",
       "    <tr>\n",
       "      <th>Tolkien</th>\n",
       "      <td>20</td>\n",
       "      <td>1970</td>\n",
       "    </tr>\n",
       "  </tbody>\n",
       "</table>\n",
       "</div>"
      ],
      "text/plain": [
       "            n_books  Geboortejaar\n",
       "Auteurs                          \n",
       "GRR Martin        7          1950\n",
       "Andy Weir         4          1960\n",
       "Tolkien          20          1970"
      ]
     },
     "metadata": {},
     "output_type": "display_data"
    }
   ],
   "source": [
    "# random df\n",
    "df2 = pd.DataFrame(np.random.random((1000, 5)))\n",
    "\n",
    "# dimensions\n",
    "len(df2)\n",
    "df2.shape\n",
    "df2.info()\n",
    "\n",
    "# indexing\n",
    "df2.iloc[500]\n",
    "df.loc[\"Andy Weir\", [\"n_books\", \"Geboortejaar\"]]\n",
    "df2.head(10)\n",
    "df2.tail(7)\n",
    "df2.sample(n=10)\n",
    "df2.sample(frac=0.01)\n",
    "# will show values>0.5 from column 3\n",
    "df2[df2[3]>0.5]\n",
    "\n",
    "# drop columns, duplicates\n",
    "# will delete column 3\n",
    "df2.drop(3, axis=1)\n",
    "\n",
    "#Reshaping data\n",
    "\n",
    "#Handling null values\n",
    "df = df.dropna(axis=0)\n",
    "df2[5] = df2[0] * df2[1]\n",
    "\n",
    "# changing the date to an int instead of a float\n",
    "df[\"Geboortejaar\"] = df[\"Geboortejaar\"].astype(int)\n",
    "display(df)"
   ]
  },
  {
   "cell_type": "markdown",
   "id": "267abacf",
   "metadata": {},
   "source": [
    "Nu kan je het zelf oefenen met de volgende oefeningen:\n",
    "* Maak een Series aan met 500 willekeurige continue getallen tussen 0 en 20\n",
    "* Maak een Series aan met 500 willekeurige integer getallen tussen 40 en 200 (let erop dat het dtype van deze kolom correct is)\n",
    "* Maak een Dataframe aan op basis van deze twee Series. De eerste is de \"Lengte\" en de tweede de \"Breedte\".\n",
    "* Bereken nu de oppervlakte van elke rij en sla dit op in een nieuwe kolom\n",
    "* Bereken de gemiddelde en mediaan van deze nieuwe kolom\n",
    "* Voor de oppervlakte willen we niet met komma-getallen werken. Verander het type van deze kolom dus naar int\n",
    "* Toon de breedte van alle rijen waarvoor de oppervlakte groter is dan het gemiddelde.\n",
    "* Toon enkel de rijen waarvoor de breedte groter is dan de lengte"
   ]
  },
  {
   "cell_type": "code",
   "execution_count": 183,
   "id": "39bdc4bc",
   "metadata": {},
   "outputs": [
    {
     "name": "stdout",
     "output_type": "stream",
     "text": [
      "0      14\n",
      "1       1\n",
      "2       0\n",
      "3      10\n",
      "4      11\n",
      "       ..\n",
      "495     7\n",
      "496    13\n",
      "497     8\n",
      "498    18\n",
      "499    13\n",
      "Length: 500, dtype: int32\n",
      "0      172\n",
      "1      116\n",
      "2      115\n",
      "3      160\n",
      "4       63\n",
      "      ... \n",
      "495    179\n",
      "496     49\n",
      "497    107\n",
      "498    172\n",
      "499    121\n",
      "Length: 500, dtype: int32\n"
     ]
    },
    {
     "data": {
      "text/html": [
       "<div>\n",
       "<style scoped>\n",
       "    .dataframe tbody tr th:only-of-type {\n",
       "        vertical-align: middle;\n",
       "    }\n",
       "\n",
       "    .dataframe tbody tr th {\n",
       "        vertical-align: top;\n",
       "    }\n",
       "\n",
       "    .dataframe thead th {\n",
       "        text-align: right;\n",
       "    }\n",
       "</style>\n",
       "<table border=\"1\" class=\"dataframe\">\n",
       "  <thead>\n",
       "    <tr style=\"text-align: right;\">\n",
       "      <th></th>\n",
       "      <th>Lengte</th>\n",
       "      <th>Breedte</th>\n",
       "    </tr>\n",
       "  </thead>\n",
       "  <tbody>\n",
       "    <tr>\n",
       "      <th>0</th>\n",
       "      <td>14</td>\n",
       "      <td>172</td>\n",
       "    </tr>\n",
       "    <tr>\n",
       "      <th>1</th>\n",
       "      <td>1</td>\n",
       "      <td>116</td>\n",
       "    </tr>\n",
       "    <tr>\n",
       "      <th>2</th>\n",
       "      <td>0</td>\n",
       "      <td>115</td>\n",
       "    </tr>\n",
       "    <tr>\n",
       "      <th>3</th>\n",
       "      <td>10</td>\n",
       "      <td>160</td>\n",
       "    </tr>\n",
       "    <tr>\n",
       "      <th>4</th>\n",
       "      <td>11</td>\n",
       "      <td>63</td>\n",
       "    </tr>\n",
       "    <tr>\n",
       "      <th>...</th>\n",
       "      <td>...</td>\n",
       "      <td>...</td>\n",
       "    </tr>\n",
       "    <tr>\n",
       "      <th>495</th>\n",
       "      <td>7</td>\n",
       "      <td>179</td>\n",
       "    </tr>\n",
       "    <tr>\n",
       "      <th>496</th>\n",
       "      <td>13</td>\n",
       "      <td>49</td>\n",
       "    </tr>\n",
       "    <tr>\n",
       "      <th>497</th>\n",
       "      <td>8</td>\n",
       "      <td>107</td>\n",
       "    </tr>\n",
       "    <tr>\n",
       "      <th>498</th>\n",
       "      <td>18</td>\n",
       "      <td>172</td>\n",
       "    </tr>\n",
       "    <tr>\n",
       "      <th>499</th>\n",
       "      <td>13</td>\n",
       "      <td>121</td>\n",
       "    </tr>\n",
       "  </tbody>\n",
       "</table>\n",
       "<p>500 rows × 2 columns</p>\n",
       "</div>"
      ],
      "text/plain": [
       "     Lengte  Breedte\n",
       "0        14      172\n",
       "1         1      116\n",
       "2         0      115\n",
       "3        10      160\n",
       "4        11       63\n",
       "..      ...      ...\n",
       "495       7      179\n",
       "496      13       49\n",
       "497       8      107\n",
       "498      18      172\n",
       "499      13      121\n",
       "\n",
       "[500 rows x 2 columns]"
      ]
     },
     "metadata": {},
     "output_type": "display_data"
    },
    {
     "name": "stdout",
     "output_type": "stream",
     "text": [
      "975.5\n"
     ]
    }
   ],
   "source": [
    "import pandas as pd\n",
    "import numpy as np\n",
    "# Maak een Series aan met 500 willekeurige continue getallen tussen 0 en 20\n",
    "sr_willekeurige_getallen = pd.Series(np.random.randint(20, size=(500)))\n",
    "print(sr_willekeurige_getallen)\n",
    "#-----------------------------\n",
    "\n",
    "# Maak een Series aan met 500 willekeurige integer getallen tussen 40 en 200 (let erop dat het dtype van deze kolom correct is)\n",
    "sr_willekeurige_getallen_tussen_40_en_200 = pd.Series(np.random.randint(40,200, size=(500)))\n",
    "print(sr_willekeurige_getallen_tussen_40_en_200)\n",
    "\n",
    "#-------------------------------\n",
    "# Maak een Dataframe aan op basis van deze twee Series. De eerste is de \"Lengte\" en de tweede de \"Breedte\".\n",
    "df_obv_de_twee_series = pd.DataFrame({\"Lengte\": sr_willekeurige_getallen, \"Breedte\": sr_willekeurige_getallen_tussen_40_en_200})\n",
    "display(df_obv_de_twee_series)\n",
    "# -------------------------\n",
    "# Bereken nu de oppervlakte van elke rij en sla dit op in een nieuwe kolom\n",
    "sr_oppervlakte = pd.Series(df_obv_de_twee_series['Lengte'] * df_obv_de_twee_series['Breedte'])\n",
    "pd.concat([df_obv_de_twee_series, sr_oppervlakte], axis=1)\n",
    "#-------------------------------\n",
    "# Bereken de gemiddelde en mediaan van deze nieuwe kolom\n",
    "sr_oppverlakte_gem = sr_oppervlakte.mean()\n",
    "sr_oppervlakte_mediaan = sr_oppervlakte.median()\n",
    "print(sr_oppervlakte_mediaan)\n",
    "#--------------------------------\n",
    "# Voor de oppervlakte willen we niet met komma-getallen werken. Verander het type van deze kolom dus naar int\n"
   ]
  }
 ],
 "metadata": {
  "celltoolbar": "Slideshow",
  "kernelspec": {
   "display_name": "Python 3",
   "language": "python",
   "name": "python3"
  },
  "language_info": {
   "codemirror_mode": {
    "name": "ipython",
    "version": 3
   },
   "file_extension": ".py",
   "mimetype": "text/x-python",
   "name": "python",
   "nbconvert_exporter": "python",
   "pygments_lexer": "ipython3",
   "version": "3.8.8"
  }
 },
 "nbformat": 4,
 "nbformat_minor": 5
}
